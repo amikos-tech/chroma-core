{
 "cells": [
  {
   "cell_type": "code",
   "execution_count": 20,
   "outputs": [
    {
     "name": "stdout",
     "output_type": "stream",
     "text": [
      "Requirement already satisfied: cryptography in /Users/tazarov/PycharmProjects/chroma-core/venv/lib/python3.10/site-packages (41.0.3)\r\n",
      "Requirement already satisfied: essential-generators in /Users/tazarov/PycharmProjects/chroma-core/venv/lib/python3.10/site-packages (1.0)\r\n",
      "Requirement already satisfied: cffi>=1.12 in /Users/tazarov/PycharmProjects/chroma-core/venv/lib/python3.10/site-packages (from cryptography) (1.15.1)\r\n",
      "Requirement already satisfied: pycparser in /Users/tazarov/PycharmProjects/chroma-core/venv/lib/python3.10/site-packages (from cffi>=1.12->cryptography) (2.21)\r\n"
     ]
    }
   ],
   "source": [
    "!pip install cryptography essential-generators"
   ],
   "metadata": {
    "collapsed": false,
    "ExecuteTime": {
     "end_time": "2023-09-09T11:31:38.657164Z",
     "start_time": "2023-09-09T11:31:34.687552Z"
    }
   },
   "id": "ee9b9e3d0a471b0f"
  },
  {
   "cell_type": "code",
   "execution_count": 21,
   "id": "initial_id",
   "metadata": {
    "collapsed": true,
    "ExecuteTime": {
     "end_time": "2023-09-09T11:31:40.090194Z",
     "start_time": "2023-09-09T11:31:40.067260Z"
    }
   },
   "outputs": [
    {
     "data": {
      "text/plain": "1694259100072740000"
     },
     "execution_count": 21,
     "metadata": {},
     "output_type": "execute_result"
    }
   ],
   "source": [
    "import chromadb\n",
    "\n",
    "client = chromadb.HttpClient()\n",
    "client.heartbeat()"
   ]
  },
  {
   "cell_type": "code",
   "execution_count": 22,
   "outputs": [
    {
     "name": "stdout",
     "output_type": "stream",
     "text": [
      "Encrypted documents:  ['gAAAAABk_FefjHyWgQwxjLWqgAwxBv-NLCjhx23ZRsG0TOJtada4qHHuKJby-r1VH4i_ltOKmbCrls2qKlccf2IUMTAzI9LO4eMvObcHpEMgF_-P1FKvHuc=', 'gAAAAABk_Fef1neYignYmunUn6aEO6vTCrjcDvNA1NI9wkS3Tg6tUfA9FbL7BwDJxaMHz4EyGqeAIwUN_Xph6fNYVIYU6MZx_eJH5cMlN1EMZ9qP0vLcx74=', 'gAAAAABk_Fef5iwVnR0CH7j8pbZ-9VfLi60TfR82uGiu7upKDK62pZzcGf-S4ZsyitWzQE7FY_mkQOFSmnSZI6pcJpBH-IldDsdl62F7dXvC63pm3yffyi8=', 'gAAAAABk_FefFZGgwuAb62kixyDtPacvw4PTVgHqrZSSzOkFT4fsM3ZlExYYFmcERlrJQcFjlh3Qn6ce9_cgQcoj5pPO2H_7D7rFwSuBC1LP4Fh8um5-jkk=', 'gAAAAABk_FefX5U7hcsX_cde6hfGsTd_gfZvMQ4IwNkR3N4dWegMZFGmO1wozEs6D7Uwz0XQK2onCx3VYB3hTaFAZlQO_pSTqgh3fBlP_XsFL8n8k766xm2cmAx-arzGSqf8BhKdmiDI', 'gAAAAABk_FefRVsbY6cyDbg7HGKO27mCw_Q4l5fjjb_QrxFEu0UrsMvY0P7Zn7__jqKdNM5ZY-BG5MJIM8eNr1x2svl0f8Mbb2KuqIdei7aYd4uEkMx_RFI=', 'gAAAAABk_FeftrWz9yhfM4OyQQH7no7R39YCeUmQu-dsYwX5xk97ttxpPElPdquNDOsMCGuxbGteATGAqw_7gINhjnP4UOri8s2n3-9789teoW_Ro1r06sowWVdxy9qTVmrxmeEqn7Zfl8Gz7Pg5B6ldBqV4yOZ1XMnKGrFmqJ4sc4lmsuFpP30=', 'gAAAAABk_Fef1UcjAKsERyL5_2HmmYWYiljjTuVUR2S8G35Xzz8wqSDqEcY8ZxNomGJWJgTgkieOMgmH44x0flGlZJ7z4zAz1kV97yXVXV2IbbAmW6W-Bs32ldXAaawo7vMVN59D62sVJsC9bUKKZjPJRlrtgSwNxxhHhRnc3g9_5RrmBLCEQbQ=', 'gAAAAABk_FefWpfKi1MHbEqNJZ-9u5TlqcgSN4GDxGerldVB2P9-wgGkDpJNTv_oqCyG3bxF3XPmiitMWu1Yxq4QkSrh1UuL5q9ayS4_UeK5gyPYHNEoWqQ=', 'gAAAAABk_FefCR8A-9oZ27dUz_oV4s-OvmxewgwTuMMT_GIhvOlG3wRczJ7L2mS6pq5kWY9ocZE4y7CwiyaYL4-nZ8UpKq5qJXkIb9hYNJiwCrCtZKPdy6-dfyRA9AQhgksJV1KQCtaQ52DGhRhGwG0xpa18HsCBKQ==']\n"
     ]
    }
   ],
   "source": [
    "import uuid\n",
    "from essential_generators import DocumentGenerator\n",
    "from cryptography.fernet import Fernet\n",
    "client.reset()\n",
    "gen = DocumentGenerator()\n",
    "#sentence = gen.sentence()\n",
    "key = Fernet.generate_key()\n",
    "f = Fernet(key)\n",
    "\n",
    "encrypt  = lambda x: f.encrypt(x.encode()).decode()\n",
    "col = client.get_or_create_collection(\"test1\")\n",
    "\n",
    "entries = 10\n",
    "encrypted_docs = [encrypt(gen.sentence()) for _ in range(entries)]\n",
    "print(\"Encrypted documents: \",encrypted_docs)\n",
    "col.add(ids=[f\"{uuid.uuid4()}\" for _id in range(entries)],embeddings=[[1,2,3] for _ in range(entries)],documents=encrypted_docs,metadatas=[{\"test\":\"test\"} for _ in range(entries)])"
   ],
   "metadata": {
    "collapsed": false,
    "ExecuteTime": {
     "end_time": "2023-09-09T11:31:43.547386Z",
     "start_time": "2023-09-09T11:31:41.678775Z"
    }
   },
   "id": "3f1b79527da7c622"
  },
  {
   "cell_type": "code",
   "execution_count": 23,
   "outputs": [
    {
     "name": "stdout",
     "output_type": "stream",
     "text": [
      "Decrypted documents:  ['York: The LGM the Laurentide', 'A node the gauchos', 'Crime rate wispy), cumuliform', 'Bank and cats require.', 'Lake Bernard, paid lodging on a per-case basis.', 'Best Western. Terms argues', 'At birth tissues by light (as noted above), but small molecules Philosophy of', \"In zones Hard Rock. Downtown Tampa and supplying Tampa's main airport and the\", '87°N or statue is a', 'Blastula stage, case has been dominant in central and eastern']\n"
     ]
    }
   ],
   "source": [
    "# Note if your data has been encrypted with different key or is in plain text the decryption will fail\n",
    "decrypt = lambda x: f.decrypt(x.encode()).decode()\n",
    "collection_with_encrypted_docs = client.get_or_create_collection(\"test1\")\n",
    "print(\"Decrypted documents: \",[decrypt(x) for x in collection_with_encrypted_docs.get()['documents']])"
   ],
   "metadata": {
    "collapsed": false,
    "ExecuteTime": {
     "end_time": "2023-09-09T11:31:51.232825Z",
     "start_time": "2023-09-09T11:31:51.182832Z"
    }
   },
   "id": "dbc745256bdf167c"
  },
  {
   "cell_type": "markdown",
   "source": [
    "Entries in DB are also encrypted\n",
    "![Encrypted DB](assets/client-side-encrypted-db-docs.png)"
   ],
   "metadata": {
    "collapsed": false
   },
   "id": "50ea9dc2a537f3ff"
  },
  {
   "cell_type": "code",
   "execution_count": 24,
   "outputs": [],
   "source": [
    "!python -c \"from cryptography.fernet import Fernet; print(Fernet.generate_key().decode())\" > symentric_encryption.key"
   ],
   "metadata": {
    "collapsed": false,
    "ExecuteTime": {
     "end_time": "2023-09-09T11:32:10.769364Z",
     "start_time": "2023-09-09T11:32:10.503536Z"
    }
   },
   "id": "f686f35026500b5d"
  }
 ],
 "metadata": {
  "kernelspec": {
   "display_name": "Python 3",
   "language": "python",
   "name": "python3"
  },
  "language_info": {
   "codemirror_mode": {
    "name": "ipython",
    "version": 2
   },
   "file_extension": ".py",
   "mimetype": "text/x-python",
   "name": "python",
   "nbconvert_exporter": "python",
   "pygments_lexer": "ipython2",
   "version": "2.7.6"
  }
 },
 "nbformat": 4,
 "nbformat_minor": 5
}
