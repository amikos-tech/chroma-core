{
 "cells": [
  {
   "cell_type": "code",
   "execution_count": 1,
   "id": "initial_id",
   "metadata": {
    "collapsed": true,
    "ExecuteTime": {
     "end_time": "2023-11-29T16:58:47.654164Z",
     "start_time": "2023-11-29T16:58:46.758823Z"
    }
   },
   "outputs": [
    {
     "name": "stdout",
     "output_type": "stream",
     "text": [
      "CREATE INDEX cust_idx_test1 ON \"embedding_metadata\"(key, segment_id, string_value) WHERE \"key\"<>'chroma:document' AND \"segment_id\"='f892ebb4-d565-4c1b-ab27-7448a80d521e' AND (\"key\"='data' OR \"key\"='test1')\n"
     ]
    },
    {
     "name": "stderr",
     "output_type": "stream",
     "text": [
      "Number of requested results 10 is greater than number of elements in index 1, updating n_results = 1\n"
     ]
    },
    {
     "name": "stdout",
     "output_type": "stream",
     "text": [
      "('SELECT \"embeddings\".\"id\",\"embeddings\".\"embedding_id\",\"embeddings\".\"seq_id\",\"embedding_metadata\".\"key\",\"embedding_metadata\".\"string_value\",\"embedding_metadata\".\"int_value\",\"embedding_metadata\".\"float_value\",\"embedding_metadata\".\"bool_value\" FROM \"embeddings\" LEFT JOIN \"embedding_metadata\" ON \"embeddings\".\"id\"=\"embedding_metadata\".\"id\" WHERE \"embeddings\".\"segment_id\"=? AND \"embeddings\".\"id\" IN (SELECT \"id\" FROM \"embedding_metadata\" WHERE \"segment_id\"=? AND \"key\"=? AND \"key\"<>\\'chroma:document\\' AND \"string_value\"=?) ORDER BY \"embeddings\".\"id\"', ('f892ebb4-d565-4c1b-ab27-7448a80d521e', 'f892ebb4-d565-4c1b-ab27-7448a80d521e', 'data', 'test'))\n",
      "('SELECT \"embeddings\".\"id\",\"embeddings\".\"embedding_id\",\"embeddings\".\"seq_id\",\"embedding_metadata\".\"key\",\"embedding_metadata\".\"string_value\",\"embedding_metadata\".\"int_value\",\"embedding_metadata\".\"float_value\",\"embedding_metadata\".\"bool_value\" FROM \"embeddings\" LEFT JOIN \"embedding_metadata\" ON \"embeddings\".\"id\"=\"embedding_metadata\".\"id\" WHERE \"embeddings\".\"segment_id\"=? AND \"embeddings\".\"embedding_id\" IN (?) ORDER BY \"embeddings\".\"id\"', ('f892ebb4-d565-4c1b-ab27-7448a80d521e', '1'))\n"
     ]
    },
    {
     "data": {
      "text/plain": "{'ids': [['1']],\n 'distances': [[0.0]],\n 'metadatas': [[{'data': 'test'}]],\n 'embeddings': None,\n 'documents': [['test']],\n 'uris': None,\n 'data': None}"
     },
     "execution_count": 1,
     "metadata": {},
     "output_type": "execute_result"
    }
   ],
   "source": [
    "import shutil\n",
    "import chromadb\n",
    "shutil.rmtree('test.db',ignore_errors=True)\n",
    "client = chromadb.PersistentClient('test.db')\n",
    "\n",
    "\n",
    "col=client.get_or_create_collection(\"test\")\n",
    "col.add_indices([{'name':'test1','index_type':'metadata','columns':['string_value'],'keys':['data','test1']}])\n",
    "\n",
    "col.add(ids=['1'],documents=['test'],metadatas=[{'data':'test'}])\n",
    "\n",
    "col.query(query_texts=['test'], where={'data':'test'})\n"
   ]
  },
  {
   "cell_type": "code",
   "execution_count": 4,
   "outputs": [],
   "source": [
    "col.drop_indices(['test1'])"
   ],
   "metadata": {
    "collapsed": false,
    "ExecuteTime": {
     "end_time": "2023-11-29T16:55:33.078497Z",
     "start_time": "2023-11-29T16:55:33.075469Z"
    }
   },
   "id": "234b2afdb512c736"
  },
  {
   "cell_type": "code",
   "execution_count": 5,
   "outputs": [
    {
     "name": "stdout",
     "output_type": "stream",
     "text": [
      "CREATE INDEX cust_idx_test1 ON \"embedding_metadata\"(key, segment_id, string_value) WHERE \"key\"<>'chroma:document' AND \"segment_id\"='40e624fc-1cd0-4bbe-aa5e-8f51b4595c67' AND (\"key\"='data' OR \"key\"='test1')\n"
     ]
    }
   ],
   "source": [
    "col.add_indices([{'name':'test1','index_type':'metadata','columns':['string_value'],'keys':['data','test1']}])\n"
   ],
   "metadata": {
    "collapsed": false,
    "ExecuteTime": {
     "end_time": "2023-11-29T16:55:39.853281Z",
     "start_time": "2023-11-29T16:55:39.848275Z"
    }
   },
   "id": "f211238f1b14c0b6"
  },
  {
   "cell_type": "code",
   "execution_count": 2,
   "outputs": [
    {
     "ename": "TypeError",
     "evalue": "'NoneType' object is not iterable",
     "output_type": "error",
     "traceback": [
      "\u001B[0;31m---------------------------------------------------------------------------\u001B[0m",
      "\u001B[0;31mTypeError\u001B[0m                                 Traceback (most recent call last)",
      "Cell \u001B[0;32mIn[2], line 1\u001B[0m\n\u001B[0;32m----> 1\u001B[0m \u001B[43mcol\u001B[49m\u001B[38;5;241;43m.\u001B[39;49m\u001B[43mdrop_indices\u001B[49m\u001B[43m(\u001B[49m\u001B[43m)\u001B[49m\n",
      "File \u001B[0;32m~/experiments/chroma-experiments/oss-metadata-indices/chromadb/api/models/Collection.py:596\u001B[0m, in \u001B[0;36mCollection.drop_indices\u001B[0;34m(self, indices)\u001B[0m\n\u001B[1;32m    595\u001B[0m \u001B[38;5;28;01mdef\u001B[39;00m \u001B[38;5;21mdrop_indices\u001B[39m(\u001B[38;5;28mself\u001B[39m, indices: Optional[Sequence[\u001B[38;5;28mstr\u001B[39m]]\u001B[38;5;241m=\u001B[39m \u001B[38;5;28;01mNone\u001B[39;00m) \u001B[38;5;241m-\u001B[39m\u001B[38;5;241m>\u001B[39m \u001B[38;5;28;01mNone\u001B[39;00m:\n\u001B[0;32m--> 596\u001B[0m     \u001B[38;5;28;01mreturn\u001B[39;00m \u001B[38;5;28;43mself\u001B[39;49m\u001B[38;5;241;43m.\u001B[39;49m\u001B[43m_client\u001B[49m\u001B[38;5;241;43m.\u001B[39;49m\u001B[43m_drop_collection_indices\u001B[49m\u001B[43m(\u001B[49m\u001B[38;5;28;43mself\u001B[39;49m\u001B[38;5;241;43m.\u001B[39;49m\u001B[43mid\u001B[49m\u001B[43m,\u001B[49m\u001B[43m \u001B[49m\u001B[43mindices\u001B[49m\u001B[43m)\u001B[49m\n",
      "File \u001B[0;32m~/experiments/chroma-experiments/oss-metadata-indices/chromadb/api/segment.py:778\u001B[0m, in \u001B[0;36mSegmentAPI._drop_collection_indices\u001B[0;34m(self, collection_id, index_names)\u001B[0m\n\u001B[1;32m    776\u001B[0m \u001B[38;5;129m@override\u001B[39m\n\u001B[1;32m    777\u001B[0m \u001B[38;5;28;01mdef\u001B[39;00m \u001B[38;5;21m_drop_collection_indices\u001B[39m(\u001B[38;5;28mself\u001B[39m, collection_id: UUID, index_names: Optional[Sequence[\u001B[38;5;28mstr\u001B[39m]]) \u001B[38;5;241m-\u001B[39m\u001B[38;5;241m>\u001B[39m \u001B[38;5;28;01mNone\u001B[39;00m:\n\u001B[0;32m--> 778\u001B[0m     \u001B[38;5;28;01mreturn\u001B[39;00m \u001B[38;5;28;43mself\u001B[39;49m\u001B[38;5;241;43m.\u001B[39;49m\u001B[43m_sysdb\u001B[49m\u001B[38;5;241;43m.\u001B[39;49m\u001B[43mdrop_indices\u001B[49m\u001B[43m(\u001B[49m\u001B[43mcollection_id\u001B[49m\u001B[43m,\u001B[49m\u001B[43m \u001B[49m\u001B[43mindex_names\u001B[49m\u001B[43m)\u001B[49m\n",
      "File \u001B[0;32m~/experiments/chroma-experiments/oss-metadata-indices/chromadb/db/mixins/sysdb.py:780\u001B[0m, in \u001B[0;36mSqlSysDB.drop_indices\u001B[0;34m(self, collection_id, index_names)\u001B[0m\n\u001B[1;32m    777\u001B[0m sql_master \u001B[38;5;241m=\u001B[39m Table(\u001B[38;5;124m'\u001B[39m\u001B[38;5;124msqlite_master\u001B[39m\u001B[38;5;124m'\u001B[39m)\n\u001B[1;32m    779\u001B[0m \u001B[38;5;28;01mwith\u001B[39;00m \u001B[38;5;28mself\u001B[39m\u001B[38;5;241m.\u001B[39mtx() \u001B[38;5;28;01mas\u001B[39;00m cur:\n\u001B[0;32m--> 780\u001B[0m \u001B[43m    \u001B[49m\u001B[38;5;28;43;01mfor\u001B[39;49;00m\u001B[43m \u001B[49m\u001B[43mindex_name\u001B[49m\u001B[43m \u001B[49m\u001B[38;5;129;43;01min\u001B[39;49;00m\u001B[43m \u001B[49m\u001B[43mindex_names\u001B[49m\u001B[43m:\u001B[49m\n\u001B[1;32m    781\u001B[0m \u001B[43m        \u001B[49m\u001B[43mquery_indices\u001B[49m\u001B[43m \u001B[49m\u001B[38;5;241;43m=\u001B[39;49m\u001B[43m \u001B[49m\u001B[43m(\u001B[49m\u001B[38;5;28;43mself\u001B[39;49m\u001B[38;5;241;43m.\u001B[39;49m\u001B[43mquerybuilder\u001B[49m\u001B[43m(\u001B[49m\u001B[43m)\u001B[49m\n\u001B[1;32m    782\u001B[0m \u001B[43m                         \u001B[49m\u001B[38;5;241;43m.\u001B[39;49m\u001B[43mfrom_\u001B[49m\u001B[43m(\u001B[49m\u001B[43msql_master\u001B[49m\u001B[43m)\u001B[49m\n\u001B[1;32m    783\u001B[0m \u001B[43m                         \u001B[49m\u001B[38;5;241;43m.\u001B[39;49m\u001B[43mselect\u001B[49m\u001B[43m(\u001B[49m\u001B[43msql_master\u001B[49m\u001B[38;5;241;43m.\u001B[39;49m\u001B[43mname\u001B[49m\u001B[43m)\u001B[49m\n\u001B[1;32m    784\u001B[0m \u001B[43m                         \u001B[49m\u001B[38;5;241;43m.\u001B[39;49m\u001B[43mwhere\u001B[49m\u001B[43m(\u001B[49m\u001B[43msql_master\u001B[49m\u001B[38;5;241;43m.\u001B[39;49m\u001B[43mtype\u001B[49m\u001B[43m \u001B[49m\u001B[38;5;241;43m==\u001B[39;49m\u001B[43m \u001B[49m\u001B[38;5;124;43m'\u001B[39;49m\u001B[38;5;124;43mindex\u001B[39;49m\u001B[38;5;124;43m'\u001B[39;49m\u001B[43m)\u001B[49m\n\u001B[1;32m    785\u001B[0m \u001B[43m                         \u001B[49m\u001B[38;5;241;43m.\u001B[39;49m\u001B[43mwhere\u001B[49m\u001B[43m(\u001B[49m\u001B[43msql_master\u001B[49m\u001B[38;5;241;43m.\u001B[39;49m\u001B[43mtbl_name\u001B[49m\u001B[43m \u001B[49m\u001B[38;5;241;43m==\u001B[39;49m\u001B[43m \u001B[49m\u001B[38;5;124;43m'\u001B[39;49m\u001B[38;5;124;43membedding_metadata\u001B[39;49m\u001B[38;5;124;43m'\u001B[39;49m\u001B[43m)\u001B[49m\n\u001B[1;32m    786\u001B[0m \u001B[43m                         \u001B[49m\u001B[38;5;241;43m.\u001B[39;49m\u001B[43mwhere\u001B[49m\u001B[43m(\u001B[49m\u001B[43msql_master\u001B[49m\u001B[38;5;241;43m.\u001B[39;49m\u001B[43msql\u001B[49m\u001B[38;5;241;43m.\u001B[39;49m\u001B[43mlike\u001B[49m\u001B[43m(\u001B[49m\u001B[38;5;124;43mf\u001B[39;49m\u001B[38;5;124;43m'\u001B[39;49m\u001B[38;5;124;43m%cust_idx_\u001B[39;49m\u001B[38;5;132;43;01m{\u001B[39;49;00m\u001B[43mindex_name\u001B[49m\u001B[38;5;132;43;01m}\u001B[39;49;00m\u001B[38;5;124;43m%\u001B[39;49m\u001B[38;5;124;43m'\u001B[39;49m\u001B[43m)\u001B[49m\u001B[43m)\u001B[49m\u001B[43m)\u001B[49m\n\u001B[1;32m    788\u001B[0m \u001B[43m        \u001B[49m\u001B[38;5;66;43;03m# Execute query to find index\u001B[39;49;00m\n",
      "\u001B[0;31mTypeError\u001B[0m: 'NoneType' object is not iterable"
     ]
    }
   ],
   "source": [
    "col.drop_indices()"
   ],
   "metadata": {
    "collapsed": false,
    "ExecuteTime": {
     "end_time": "2023-11-29T16:58:52.281633Z",
     "start_time": "2023-11-29T16:58:52.065566Z"
    }
   },
   "id": "66ac565f844374e2"
  },
  {
   "cell_type": "code",
   "execution_count": null,
   "outputs": [],
   "source": [],
   "metadata": {
    "collapsed": false
   },
   "id": "9d66ba3b2f4aa7af"
  }
 ],
 "metadata": {
  "kernelspec": {
   "display_name": "Python 3",
   "language": "python",
   "name": "python3"
  },
  "language_info": {
   "codemirror_mode": {
    "name": "ipython",
    "version": 2
   },
   "file_extension": ".py",
   "mimetype": "text/x-python",
   "name": "python",
   "nbconvert_exporter": "python",
   "pygments_lexer": "ipython2",
   "version": "2.7.6"
  }
 },
 "nbformat": 4,
 "nbformat_minor": 5
}
