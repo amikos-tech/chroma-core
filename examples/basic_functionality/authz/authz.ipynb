{
 "cells": [
  {
   "cell_type": "code",
   "execution_count": 23,
   "metadata": {},
   "outputs": [
    {
     "name": "stdout",
     "output_type": "stream",
     "text": [
      "/\n"
     ]
    },
    {
     "data": {
      "text/plain": [
       "{'ids': ['1'], 'embeddings': None, 'metadatas': [None], 'documents': ['test']}"
      ]
     },
     "execution_count": 23,
     "metadata": {},
     "output_type": "execute_result"
    }
   ],
   "source": [
    "%cd ../../../\n",
    "import chromadb\n",
    "from chromadb.config import Settings\n",
    "\n",
    "client = chromadb.HttpClient(\"http://localhost:8000/\",\n",
    "                             settings=Settings(chroma_client_auth_provider=\"chromadb.auth.token.TokenAuthClientProvider\",\n",
    "                                               chroma_client_auth_credentials=\"test-token-admin\"))\n",
    "\n",
    "client.list_collections()\n",
    "collection = client.get_or_create_collection(\"test_collection\")\n",
    "\n",
    "collection.add(documents=[\"test\"],ids=[\"1\"])\n",
    "collection.get()"
   ]
  }
 ],
 "metadata": {
  "kernelspec": {
   "display_name": "venv",
   "language": "python",
   "name": "python3"
  },
  "language_info": {
   "codemirror_mode": {
    "name": "ipython",
    "version": 3
   },
   "file_extension": ".py",
   "mimetype": "text/x-python",
   "name": "python",
   "nbconvert_exporter": "python",
   "pygments_lexer": "ipython3",
   "version": "3.11.2"
  }
 },
 "nbformat": 4,
 "nbformat_minor": 2
}
