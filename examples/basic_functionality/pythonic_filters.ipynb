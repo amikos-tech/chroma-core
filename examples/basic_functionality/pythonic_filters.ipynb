{
 "cells": [
  {
   "attachments": {},
   "cell_type": "markdown",
   "metadata": {},
   "source": [
    "# Pythonic Filters\n",
    "This notebook demonstrates how to use pythonic filters to query your Chroma collection.\n",
    "> Note: Pythonic filters currently apply only to `where` (metadata) filters."
   ]
  },
  {
   "cell_type": "code",
   "execution_count": 1,
   "metadata": {
    "ExecuteTime": {
     "end_time": "2023-09-12T14:12:46.836786Z",
     "start_time": "2023-09-12T14:12:46.277857Z"
    }
   },
   "outputs": [
    {
     "name": "stdout",
     "output_type": "stream",
     "text": [
      "{'ids': ['id7'], 'embeddings': None, 'metadatas': [{'rating': 0.91, 'status': 'read'}], 'documents': ['A document that discusses international affairs']}\n",
      "{'ids': ['id2', 'id7', 'id8'], 'embeddings': None, 'metadatas': [{'rating': 0.1, 'status': 'unread'}, {'rating': 0.91, 'status': 'read'}, {'rating': 0.41, 'status': 'unread'}], 'documents': ['A document that discusses international affairs', 'A document that discusses international affairs', 'A document that discusses global affairs']}\n"
     ]
    }
   ],
   "source": [
    "import chromadb\n",
    "client = chromadb.Client()\n",
    "# Create a new chroma collection\n",
    "collection_name = \"filter_example_collection\"\n",
    "collection = client.get_or_create_collection(name=collection_name)\n",
    "# Add some data to the collection\n",
    "collection.add(\n",
    "    embeddings=[\n",
    "        [1.1, 2.3, 3.2],\n",
    "        [4.5, 6.9, 4.4],\n",
    "        [1.1, 2.3, 3.2],\n",
    "        [4.5, 6.9, 4.4],\n",
    "        [1.1, 2.3, 3.2],\n",
    "        [4.5, 6.9, 4.4],\n",
    "        [1.1, 2.3, 3.2],\n",
    "        [4.5, 6.9, 4.4],\n",
    "    ],\n",
    "    metadatas=[\n",
    "        {\"status\": \"read\",\"rating\": 0.6},\n",
    "        {\"status\": \"unread\",\"rating\": 0.1},\n",
    "        {\"status\": \"read\",\"rating\": 0.9},\n",
    "        {\"status\": \"unread\",\"rating\": 0.34},\n",
    "        {\"status\": \"read\",\"rating\": 0.28},\n",
    "        {\"status\": \"unread\",\"rating\": 0.499},\n",
    "        {\"status\": \"read\",\"rating\": 0.91},\n",
    "        {\"status\": \"unread\",\"rating\": 0.41},\n",
    "    ],\n",
    "    documents=[\"A document that discusses domestic policy\", \"A document that discusses international affairs\", \"A document that discusses kittens\", \"A document that discusses dogs\", \"A document that discusses chocolate\", \"A document that is sixth that discusses government\", \"A document that discusses international affairs\", \"A document that discusses global affairs\"],\n",
    "    ids=[\"id1\", \"id2\", \"id3\", \"id4\", \"id5\", \"id6\", \"id7\", \"id8\"],\n",
    ")\n",
    "from chromadb import WhereFilter\n",
    "# Get documents that are read and about affairs\n",
    "simple_query=collection.get(\n",
    "    where=WhereFilter(\"status\"== \"read\"), \n",
    "    where_document={\"$contains\": \"affairs\"})\n",
    "\n",
    "multi_line=collection.get(\n",
    "    where=WhereFilter(\"status\"== \"read\" \n",
    "                       or \"status\"== \"unread\"),\n",
    "    where_document={\"$contains\": \"affairs\"})\n",
    "\n",
    "print(simple_query)\n",
    "print(multi_line)"
   ]
  },
  {
   "cell_type": "markdown",
   "source": [
    "# Filtering With Numeric Values\n",
    "\n",
    "While string values with equal/not equal operators are easily supported by the syntax above, Python will throw an exception for comparing string to int or float (e.g. `\"a\" > 1`). To compare numeric values we introduce attribute (`Attr`) objects. Which allow you to perform numeric comparisons on metadata values using the following syntax:\n",
    "\n",
    "> Note: Both `attr.rating` and `attr[\"rating\"]` are valid."
   ],
   "metadata": {
    "collapsed": false
   }
  },
  {
   "cell_type": "code",
   "execution_count": 3,
   "outputs": [
    {
     "name": "stdout",
     "output_type": "stream",
     "text": [
      "<ast.Constant object at 0x10eefd0c0>\n",
      "<ast.Constant object at 0x10eefee00>\n",
      "{'$and': [{'rating': {'$gt': 0.1}}, {'rating': {'$lte': 0.9}}]}\n",
      "{'ids': ['id1', 'id3'], 'embeddings': None, 'metadatas': [{'rating': 0.6, 'status': 'read'}, {'rating': 0.9, 'status': 'read'}], 'documents': ['A document that discusses domestic policy', 'A document that discusses kittens']}\n"
     ]
    }
   ],
   "source": [
    "from chromadb.utils.query_helper import attr\n",
    "\n",
    "q = WhereFilter(attr.rating > 0.1 and attr[\"rating\"] <= 0.9)\n",
    "numeric_filter=collection.get(where=WhereFilter(attr.rating > 0.5 and attr[\"rating\"] <= 0.9))\n",
    "print(q)\n",
    "print(numeric_filter)"
   ],
   "metadata": {
    "collapsed": false,
    "ExecuteTime": {
     "end_time": "2023-09-12T14:13:25.484015Z",
     "start_time": "2023-09-12T14:13:25.478108Z"
    }
   }
  },
  {
   "cell_type": "markdown",
   "source": [
    "# Where Filtering With Logical Operators\n",
    "This section demonstrates how one can use the logical operators in `where` filtering.\n",
    "\n",
    "Chroma currently supports: `$and` and `$or` operators.\n",
    "\n",
    "> Note: Logical operators can be nested"
   ],
   "metadata": {
    "collapsed": false
   }
  },
  {
   "cell_type": "code",
   "execution_count": 9,
   "outputs": [
    {
     "name": "stdout",
     "output_type": "stream",
     "text": [
      "{'ids': ['1', '2'], 'embeddings': None, 'metadatas': [{'author': 'john'}, {'author': 'jack'}], 'documents': ['Article by john', 'Article by Jack']}\n",
      "{'ids': ['1', '2'], 'embeddings': None, 'metadatas': [{'author': 'john'}, {'author': 'jack'}], 'documents': ['Article by john', 'Article by Jack']}\n"
     ]
    }
   ],
   "source": [
    "# Or Logical Operator Filtering\n",
    "# import chromadb\n",
    "client = chromadb.Client()\n",
    "collection = client.get_or_create_collection(\"test-where-list\")\n",
    "collection.add(documents=[\"Article by john\", \"Article by Jack\", \"Article by Jill\"],\n",
    "               metadatas=[{\"author\": \"john\"}, {\"author\": \"jack\"}, {\"author\": \"jill\"}], ids=[\"1\", \"2\", \"3\"])\n",
    "\n",
    "q1=collection.get(where={\"$or\": [{\"author\": \"john\"}, {\"author\": \"jack\"}]})\n",
    "q2=collection.get(where=WhereFilter(\"author\"==\"john\" or \"author\"==\"jack\"))\n",
    "print(q1)\n",
    "print(q2)"
   ],
   "metadata": {
    "collapsed": false,
    "ExecuteTime": {
     "end_time": "2023-09-12T13:31:22.243214Z",
     "start_time": "2023-09-12T13:31:22.025387Z"
    }
   }
  },
  {
   "cell_type": "code",
   "execution_count": 10,
   "outputs": [
    {
     "name": "stdout",
     "output_type": "stream",
     "text": [
      "{'ids': ['1'], 'embeddings': None, 'metadatas': [{'author': 'john', 'category': 'chroma'}], 'documents': ['Article by john']}\n",
      "{'ids': ['1'], 'embeddings': None, 'metadatas': [{'author': 'john', 'category': 'chroma'}], 'documents': ['Article by john']}\n"
     ]
    }
   ],
   "source": [
    "# And Logical Operator Filtering\n",
    "collection = client.get_or_create_collection(\"test-where-list\")\n",
    "collection.upsert(documents=[\"Article by john\", \"Article by Jack\", \"Article by Jill\"],\n",
    "               metadatas=[{\"author\": \"john\",\"category\":\"chroma\"}, {\"author\": \"jack\",\"category\":\"ml\"}, {\"author\": \"jill\",\"category\":\"lifestyle\"}], ids=[\"1\", \"2\", \"3\"])\n",
    "q1=collection.get(where={\"$and\": [{\"category\": \"chroma\"}, {\"author\": \"john\"}]})\n",
    "q2=collection.get(where=WhereFilter(\"category\"==\"chroma\" and \"author\"==\"john\"))\n",
    "print(q1)\n",
    "print(q2)"
   ],
   "metadata": {
    "collapsed": false,
    "ExecuteTime": {
     "end_time": "2023-09-12T13:31:23.160088Z",
     "start_time": "2023-09-12T13:31:23.092819Z"
    }
   }
  },
  {
   "cell_type": "code",
   "execution_count": 11,
   "outputs": [
    {
     "name": "stdout",
     "output_type": "stream",
     "text": [
      "{'ids': [], 'embeddings': None, 'metadatas': [], 'documents': []}\n",
      "{'ids': [], 'embeddings': None, 'metadatas': [], 'documents': []}\n"
     ]
    }
   ],
   "source": [
    "# And logical that doesn't match anything\n",
    "q1=collection.get(where={\"$and\": [{\"category\": \"chroma\"}, {\"author\": \"jill\"}]})\n",
    "q2=collection.get(where=WhereFilter(\"category\"==\"chroma\" and \"author\"==\"jill\"))\n",
    "print(q1)\n",
    "print(q2)"
   ],
   "metadata": {
    "collapsed": false,
    "ExecuteTime": {
     "end_time": "2023-09-12T13:31:23.934557Z",
     "start_time": "2023-09-12T13:31:23.929887Z"
    }
   }
  },
  {
   "cell_type": "code",
   "execution_count": 12,
   "outputs": [
    {
     "name": "stdout",
     "output_type": "stream",
     "text": [
      "{'ids': ['1'], 'embeddings': None, 'metadatas': [{'author': 'john', 'category': 'chroma'}], 'documents': ['Article by john']}\n",
      "{'ids': ['1'], 'embeddings': None, 'metadatas': [{'author': 'john', 'category': 'chroma'}], 'documents': ['Article by john']}\n"
     ]
    }
   ],
   "source": [
    "# Combined `And` and `Or` Logical Operator Filtering\n",
    "q1=collection.get(where={\"$and\": [{\"category\": \"chroma\"}, {\"$or\": [{\"author\": \"john\"}, {\"author\": \"jack\"}]}]})\n",
    "q2=collection.get(where=WhereFilter(\"category\"==\"chroma\" and (\"author\"==\"john\" or \"author\"==\"jack\")))\n",
    "print(q1)\n",
    "print(q2)"
   ],
   "metadata": {
    "collapsed": false,
    "ExecuteTime": {
     "end_time": "2023-09-12T13:31:26.209626Z",
     "start_time": "2023-09-12T13:31:26.205851Z"
    }
   }
  },
  {
   "cell_type": "code",
   "execution_count": null,
   "outputs": [],
   "source": [],
   "metadata": {
    "collapsed": false
   }
  }
 ],
 "metadata": {
  "kernelspec": {
   "display_name": "Python 3",
   "language": "python",
   "name": "python3"
  },
  "language_info": {
   "codemirror_mode": {
    "name": "ipython",
    "version": 3
   },
   "file_extension": ".py",
   "mimetype": "text/x-python",
   "name": "python",
   "nbconvert_exporter": "python",
   "pygments_lexer": "ipython3",
   "version": "3.10.8"
  },
  "orig_nbformat": 4,
  "vscode": {
   "interpreter": {
    "hash": "2395417914bce3169eff793a7d01bf858f95b138000d8d354eed93ead856f5e6"
   }
  }
 },
 "nbformat": 4,
 "nbformat_minor": 2
}
