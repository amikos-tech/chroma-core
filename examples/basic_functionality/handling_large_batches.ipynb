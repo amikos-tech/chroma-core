{
 "cells": [
  {
   "cell_type": "code",
   "execution_count": 2,
   "id": "initial_id",
   "metadata": {
    "collapsed": true,
    "ExecuteTime": {
     "end_time": "2024-01-20T15:02:36.613354Z",
     "start_time": "2024-01-20T14:59:58.950112Z"
    }
   },
   "outputs": [
    {
     "name": "stdout",
     "output_type": "stream",
     "text": [
      "Adding batch of size 83333\n",
      "Adding batch of size 16667\n"
     ]
    }
   ],
   "source": [
    "import chromadb\n",
    "from chromadb.utils.batch_utils import create_batches\n",
    "import uuid\n",
    "\n",
    "client = chromadb.PersistentClient(path=\"test-large-batch\")\n",
    "large_batch = [(f\"{uuid.uuid4()}\", f\"document {i}\", [0.1] * 1536) for i in range(100000)]\n",
    "ids, documents, embeddings = zip(*large_batch)\n",
    "batches = create_batches(api=client,ids=list(ids), documents=list(documents), embeddings=list(embeddings))\n",
    "collection = client.get_or_create_collection(\"test\")\n",
    "for batch in batches:\n",
    "    print(f\"Adding batch of size {len(batch[0])}\")\n",
    "    collection.add(ids=batch[0],\n",
    "                   documents=batch[3],\n",
    "                   embeddings=batch[1],\n",
    "                   metadatas=batch[2])\n"
   ]
  }
 ],
 "metadata": {
  "kernelspec": {
   "display_name": "Python 3",
   "language": "python",
   "name": "python3"
  },
  "language_info": {
   "codemirror_mode": {
    "name": "ipython",
    "version": 2
   },
   "file_extension": ".py",
   "mimetype": "text/x-python",
   "name": "python",
   "nbconvert_exporter": "python",
   "pygments_lexer": "ipython2",
   "version": "2.7.6"
  }
 },
 "nbformat": 4,
 "nbformat_minor": 5
}
