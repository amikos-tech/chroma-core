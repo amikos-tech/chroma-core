{
 "cells": [
  {
   "cell_type": "code",
   "execution_count": 1,
   "metadata": {},
   "outputs": [
    {
     "name": "stdout",
     "output_type": "stream",
     "text": [
      "/Users/tazarov/experiments/chroma-experiments/document_keyword_search\n"
     ]
    },
    {
     "name": "stderr",
     "output_type": "stream",
     "text": [
      "Number of requested results 10 is greater than number of elements in index 5, updating n_results = 5\n"
     ]
    },
    {
     "data": {
      "text/plain": [
       "{'ids': [['0', '3', '4', '1']],\n",
       " 'distances': [[0.6140892505645752,\n",
       "   0.8985650539398193,\n",
       "   1.242105484008789,\n",
       "   1.30079185962677]],\n",
       " 'metadatas': [[None, None, None, None]],\n",
       " 'embeddings': None,\n",
       " 'documents': [['AI is increasing technological innovation pace.',\n",
       "   'Mobile technologies are changing the world of telecommunication at a steady pace.',\n",
       "   'Latest technology can be found in the spanish telenovela.',\n",
       "   'This article is about telecommunication technology.']],\n",
       " 'uris': None,\n",
       " 'data': None}"
      ]
     },
     "execution_count": 1,
     "metadata": {},
     "output_type": "execute_result"
    }
   ],
   "source": [
    "%cd ../../\n",
    "import chromadb\n",
    "from chromadb.config import Settings\n",
    "\n",
    "client = chromadb.EphemeralClient(settings=Settings(allow_reset=True))\n",
    "\n",
    "client.reset()\n",
    "col = client.get_or_create_collection(\"test\")\n",
    "docs = [\"AI is increasing technological innovation pace.\", \n",
    "        \"This article is about telecommunication technology.\",\n",
    "        \"RAG and fine-tuning have their strengths and weakness.\", \n",
    "        \"Mobile technologies are changing the world of telecommunication at a steady pace.\",\n",
    "        \"Latest technology can be found in the spanish telenovela.\"]\n",
    "col.upsert(ids=[f\"{i}\" for i in range(len(docs))], documents=docs)\n",
    "col.query(query_texts=[\"Technological pace\"], where_document={\"$or\": [{\"$contains\": \"technology\"}, {\"$contains\":\"pace\"}]})\n"
   ]
  },
  {
   "cell_type": "markdown",
   "metadata": {},
   "source": [
    "The above is great and we get the results we want, but what if we don't want articles about mobile or telecommunications?\n",
    "Enter keyword search in FTS5 and MATCH queries (read more here [https://sqlite.org/fts5.html](https://sqlite.org/fts5.html), particularly section 3.6)\n",
    "\n",
    "Let's see an example where we only exclude mobile"
   ]
  },
  {
   "cell_type": "code",
   "execution_count": 2,
   "metadata": {},
   "outputs": [
    {
     "name": "stderr",
     "output_type": "stream",
     "text": [
      "Number of requested results 10 is greater than number of elements in index 5, updating n_results = 5\n"
     ]
    },
    {
     "data": {
      "text/plain": [
       "{'ids': [['0', '4', '1']],\n",
       " 'distances': [[0.6140892505645752, 1.242105484008789, 1.30079185962677]],\n",
       " 'metadatas': [[None, None, None]],\n",
       " 'embeddings': None,\n",
       " 'documents': [['AI is increasing technological innovation pace.',\n",
       "   'Latest technology can be found in the spanish telenovela.',\n",
       "   'This article is about telecommunication technology.']],\n",
       " 'uris': None,\n",
       " 'data': None}"
      ]
     },
     "execution_count": 2,
     "metadata": {},
     "output_type": "execute_result"
    }
   ],
   "source": [
    "col.query(query_texts=[\"Technological pace\"], where_document={\n",
    "          \"$keyword\": \"(technology OR pace) NOT mobile\"})\n",
    "# as expected three documents are returned"
   ]
  },
  {
   "cell_type": "markdown",
   "metadata": {},
   "source": [
    "Now let's try excluding another term, telecommunication"
   ]
  },
  {
   "cell_type": "code",
   "execution_count": 3,
   "metadata": {},
   "outputs": [
    {
     "name": "stderr",
     "output_type": "stream",
     "text": [
      "Number of requested results 10 is greater than number of elements in index 5, updating n_results = 5\n"
     ]
    },
    {
     "data": {
      "text/plain": [
       "{'ids': [['0', '4']],\n",
       " 'distances': [[0.6140892505645752, 1.242105484008789]],\n",
       " 'metadatas': [[None, None]],\n",
       " 'embeddings': None,\n",
       " 'documents': [['AI is increasing technological innovation pace.',\n",
       "   'Latest technology can be found in the spanish telenovela.']],\n",
       " 'uris': None,\n",
       " 'data': None}"
      ]
     },
     "execution_count": 3,
     "metadata": {},
     "output_type": "execute_result"
    }
   ],
   "source": [
    "col.query(query_texts=[\"Technological pace\"], where_document={\n",
    "          \"$keyword\": \"(technology OR pace) NOT mobile NOT telecommunication\"})\n",
    "# as expected two documents are returned"
   ]
  },
  {
   "cell_type": "markdown",
   "metadata": {},
   "source": [
    "Let's have some more fun and try to exclude only keywords that start with telecom. This will include the telenovela document, but exclude the telecommunications document."
   ]
  },
  {
   "cell_type": "code",
   "execution_count": 7,
   "metadata": {},
   "outputs": [
    {
     "name": "stderr",
     "output_type": "stream",
     "text": [
      "Number of requested results 10 is greater than number of elements in index 5, updating n_results = 5\n"
     ]
    },
    {
     "data": {
      "text/plain": [
       "{'ids': [['0', '4']],\n",
       " 'distances': [[0.6140892505645752, 1.242105484008789]],\n",
       " 'metadatas': [[None, None]],\n",
       " 'embeddings': None,\n",
       " 'documents': [['AI is increasing technological innovation pace.',\n",
       "   'Latest technology can be found in the spanish telenovela.']],\n",
       " 'uris': None,\n",
       " 'data': None}"
      ]
     },
     "execution_count": 7,
     "metadata": {},
     "output_type": "execute_result"
    }
   ],
   "source": [
    "col.query(query_texts=[\"Technological pace\"], where_document={\n",
    "          \"$keyword\": \"(technology OR pace) NOT mobile NOT NEAR(telecom)\"})\n",
    "# as expected two documents are returned, one of which is our telenovela"
   ]
  }
 ],
 "metadata": {
  "kernelspec": {
   "display_name": "venv",
   "language": "python",
   "name": "python3"
  },
  "language_info": {
   "codemirror_mode": {
    "name": "ipython",
    "version": 3
   },
   "file_extension": ".py",
   "mimetype": "text/x-python",
   "name": "python",
   "nbconvert_exporter": "python",
   "pygments_lexer": "ipython3",
   "version": "3.11.2"
  }
 },
 "nbformat": 4,
 "nbformat_minor": 2
}
