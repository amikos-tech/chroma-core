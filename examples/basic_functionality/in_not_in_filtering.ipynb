{
 "cells": [
  {
   "cell_type": "code",
   "execution_count": 5,
   "id": "initial_id",
   "metadata": {
    "collapsed": true,
    "ExecuteTime": {
     "end_time": "2023-08-23T15:37:05.771154Z",
     "start_time": "2023-08-23T15:37:05.678479Z"
    }
   },
   "outputs": [
    {
     "name": "stdout",
     "output_type": "stream",
     "text": [
      "{'ids': [['1', '3']], 'distances': [[0.28824201226234436, 1.017508625984192]], 'embeddings': None, 'metadatas': [[{'author': 'john'}, {'author': 'jill'}]], 'documents': [['Article by john', 'Article by Jill']]}\n",
      "{'ids': ['1', '3'], 'embeddings': None, 'metadatas': [{'author': 'john'}, {'author': 'jill'}], 'documents': ['Article by john', 'Article by Jill']}\n"
     ]
    }
   ],
   "source": [
    "import chromadb\n",
    "\n",
    "from chromadb.utils import embedding_functions\n",
    "\n",
    "sentence_transformer_ef = embedding_functions.SentenceTransformerEmbeddingFunction(model_name=\"all-MiniLM-L6-v2\")\n",
    "\n",
    "\n",
    "client = chromadb.HttpClient()\n",
    "client.heartbeat()\n",
    "client.reset()\n",
    "collection = client.get_or_create_collection(\"test-where-list\", embedding_function=sentence_transformer_ef)\n",
    "collection.add(documents=[\"Article by john\", \"Article by Jack\", \"Article by Jill\"],\n",
    "               metadatas=[{\"author\": \"john\"}, {\"author\": \"jack\"}, {\"author\": \"jill\"}], ids=[\"1\", \"2\", \"3\"])\n",
    "\n",
    "query = [\"Give me articles by john\"]\n",
    "res = collection.query(query_texts=query,where={'author': {'$in': ['john', 'jill']}}, n_results=10)\n",
    "print(res)\n",
    "\n",
    "res_get = collection.get(where={'author': {'$in': ['john', 'jill']}})\n",
    "print(res_get)\n"
   ]
  },
  {
   "cell_type": "code",
   "execution_count": 9,
   "outputs": [],
   "source": [],
   "metadata": {
    "collapsed": false,
    "ExecuteTime": {
     "end_time": "2023-08-11T13:05:16.526314Z",
     "start_time": "2023-08-11T13:05:16.512459Z"
    }
   },
   "id": "2489d5f5458f3df2"
  },
  {
   "cell_type": "code",
   "execution_count": null,
   "outputs": [],
   "source": [],
   "metadata": {
    "collapsed": false
   },
   "id": "f10e79ec90c797c1"
  }
 ],
 "metadata": {
  "kernelspec": {
   "display_name": "Python 3",
   "language": "python",
   "name": "python3"
  },
  "language_info": {
   "codemirror_mode": {
    "name": "ipython",
    "version": 2
   },
   "file_extension": ".py",
   "mimetype": "text/x-python",
   "name": "python",
   "nbconvert_exporter": "python",
   "pygments_lexer": "ipython2",
   "version": "2.7.6"
  }
 },
 "nbformat": 4,
 "nbformat_minor": 5
}
