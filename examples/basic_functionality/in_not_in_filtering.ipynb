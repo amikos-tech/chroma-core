{
 "cells": [
  {
   "cell_type": "code",
   "execution_count": 2,
   "id": "initial_id",
   "metadata": {
    "collapsed": true,
    "ExecuteTime": {
     "end_time": "2023-08-11T13:34:53.668456Z",
     "start_time": "2023-08-11T13:34:53.581516Z"
    }
   },
   "outputs": [
    {
     "name": "stdout",
     "output_type": "stream",
     "text": [
      "operator\n",
      "operator\n",
      "{'ids': [['3']], 'distances': [[1.1739382255064619]], 'embeddings': None, 'metadatas': [[{'author': 'jill'}]], 'documents': [['Article by Jill']]}\n"
     ]
    }
   ],
   "source": [
    "import chromadb\n",
    "\n",
    "client = chromadb.Client()\n",
    "\n",
    "from chromadb.utils import embedding_functions\n",
    "\n",
    "sentence_transformer_ef = embedding_functions.SentenceTransformerEmbeddingFunction(model_name=\"all-MiniLM-L6-v2\")\n",
    "\n",
    "\n",
    "client = chromadb.HttpClient()\n",
    "client.heartbeat()\n",
    "client.reset()\n",
    "collection = client.get_or_create_collection(\"test-where-list\", embedding_function=sentence_transformer_ef)\n",
    "collection.add(documents=[\"Article by john\", \"Article by Jack\", \"Article by Jill\"],\n",
    "               metadatas=[{\"author\": \"john\"}, {\"author\": \"jack\"}, {\"author\": \"jill\"}], ids=[\"1\", \"2\", \"3\"])\n",
    "\n",
    "query = [\"Give me articles by john\"]\n",
    "res = collection.query(query_texts=query,where={'author': {'$in': ['john', 'jill']}}, n_results=10)\n",
    "print(res)\n"
   ]
  },
  {
   "cell_type": "code",
   "execution_count": 9,
   "outputs": [],
   "source": [],
   "metadata": {
    "collapsed": false,
    "ExecuteTime": {
     "end_time": "2023-08-11T13:05:16.526314Z",
     "start_time": "2023-08-11T13:05:16.512459Z"
    }
   },
   "id": "2489d5f5458f3df2"
  },
  {
   "cell_type": "code",
   "execution_count": null,
   "outputs": [],
   "source": [],
   "metadata": {
    "collapsed": false
   },
   "id": "f10e79ec90c797c1"
  }
 ],
 "metadata": {
  "kernelspec": {
   "display_name": "Python 3",
   "language": "python",
   "name": "python3"
  },
  "language_info": {
   "codemirror_mode": {
    "name": "ipython",
    "version": 2
   },
   "file_extension": ".py",
   "mimetype": "text/x-python",
   "name": "python",
   "nbconvert_exporter": "python",
   "pygments_lexer": "ipython2",
   "version": "2.7.6"
  }
 },
 "nbformat": 4,
 "nbformat_minor": 5
}
