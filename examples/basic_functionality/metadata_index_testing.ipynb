{
 "cells": [
  {
   "cell_type": "code",
   "execution_count": 3,
   "id": "initial_id",
   "metadata": {
    "collapsed": true,
    "ExecuteTime": {
     "end_time": "2023-09-17T19:16:23.361326Z",
     "start_time": "2023-09-17T14:58:02.628854Z"
    }
   },
   "outputs": [
    {
     "name": "stderr",
     "output_type": "stream",
     "text": [
      "  0%|          | 2456/1000000 [4:18:19<1748:40:13,  6.31s/it]  \n"
     ]
    },
    {
     "ename": "KeyboardInterrupt",
     "evalue": "",
     "output_type": "error",
     "traceback": [
      "\u001B[0;31m---------------------------------------------------------------------------\u001B[0m",
      "\u001B[0;31mKeyboardInterrupt\u001B[0m                         Traceback (most recent call last)",
      "Cell \u001B[0;32mIn[3], line 15\u001B[0m\n\u001B[1;32m     13\u001B[0m     batch_start \u001B[38;5;241m=\u001B[39m batch\u001B[38;5;241m*\u001B[39mbatch_size\n\u001B[1;32m     14\u001B[0m     batch_end \u001B[38;5;241m=\u001B[39m batch_start\u001B[38;5;241m+\u001B[39mbatch_size\n\u001B[0;32m---> 15\u001B[0m     \u001B[43mcol\u001B[49m\u001B[38;5;241;43m.\u001B[39;49m\u001B[43madd\u001B[49m\u001B[43m(\u001B[49m\u001B[43mids\u001B[49m\u001B[38;5;241;43m=\u001B[39;49m\u001B[43m[\u001B[49m\u001B[38;5;124;43mf\u001B[39;49m\u001B[38;5;124;43m\"\u001B[39;49m\u001B[38;5;132;43;01m{\u001B[39;49;00m\u001B[43muuid\u001B[49m\u001B[38;5;241;43m.\u001B[39;49m\u001B[43muuid4\u001B[49m\u001B[43m(\u001B[49m\u001B[43m)\u001B[49m\u001B[38;5;132;43;01m}\u001B[39;49;00m\u001B[38;5;124;43m\"\u001B[39;49m\u001B[43m \u001B[49m\u001B[38;5;28;43;01mfor\u001B[39;49;00m\u001B[43m \u001B[49m\u001B[43m_id\u001B[49m\u001B[43m \u001B[49m\u001B[38;5;129;43;01min\u001B[39;49;00m\u001B[43m \u001B[49m\u001B[38;5;28;43mrange\u001B[39;49m\u001B[43m(\u001B[49m\u001B[43mbatch_start\u001B[49m\u001B[43m,\u001B[49m\u001B[43mbatch_end\u001B[49m\u001B[43m)\u001B[49m\u001B[43m]\u001B[49m\u001B[43m,\u001B[49m\u001B[43mdocuments\u001B[49m\u001B[38;5;241;43m=\u001B[39;49m\u001B[43m[\u001B[49m\u001B[43mgen\u001B[49m\u001B[38;5;241;43m.\u001B[39;49m\u001B[43msentence\u001B[49m\u001B[43m(\u001B[49m\u001B[43m)\u001B[49m\u001B[43m \u001B[49m\u001B[38;5;28;43;01mfor\u001B[39;49;00m\u001B[43m \u001B[49m\u001B[43m_\u001B[49m\u001B[43m \u001B[49m\u001B[38;5;129;43;01min\u001B[39;49;00m\u001B[43m \u001B[49m\u001B[38;5;28;43mrange\u001B[39;49m\u001B[43m(\u001B[49m\u001B[43mbatch_start\u001B[49m\u001B[43m,\u001B[49m\u001B[43mbatch_end\u001B[49m\u001B[43m)\u001B[49m\u001B[43m]\u001B[49m\u001B[43m,\u001B[49m\u001B[43mmetadatas\u001B[49m\u001B[38;5;241;43m=\u001B[39;49m\u001B[43m[\u001B[49m\u001B[43m{\u001B[49m\u001B[38;5;124;43m\"\u001B[39;49m\u001B[38;5;124;43ma\u001B[39;49m\u001B[38;5;124;43m\"\u001B[39;49m\u001B[43m:\u001B[49m\u001B[38;5;124;43mf\u001B[39;49m\u001B[38;5;124;43m\"\u001B[39;49m\u001B[38;5;124;43mid-\u001B[39;49m\u001B[38;5;132;43;01m{\u001B[39;49;00m\u001B[43m_id\u001B[49m\u001B[38;5;132;43;01m}\u001B[39;49;00m\u001B[38;5;124;43m\"\u001B[39;49m\u001B[43m,\u001B[49m\u001B[38;5;124;43m\"\u001B[39;49m\u001B[38;5;124;43mb\u001B[39;49m\u001B[38;5;124;43m\"\u001B[39;49m\u001B[43m:\u001B[49m\u001B[43m_id\u001B[49m\u001B[43m,\u001B[49m\u001B[38;5;124;43m\"\u001B[39;49m\u001B[38;5;124;43mc\u001B[39;49m\u001B[38;5;124;43m\"\u001B[39;49m\u001B[43m:\u001B[49m\u001B[38;5;28;43;01mTrue\u001B[39;49;00m\u001B[43m}\u001B[49m\u001B[43m \u001B[49m\u001B[38;5;28;43;01mfor\u001B[39;49;00m\u001B[43m \u001B[49m\u001B[43m_id\u001B[49m\u001B[43m \u001B[49m\u001B[38;5;129;43;01min\u001B[39;49;00m\u001B[43m \u001B[49m\u001B[38;5;28;43mrange\u001B[39;49m\u001B[43m(\u001B[49m\u001B[43mbatch_start\u001B[49m\u001B[43m,\u001B[49m\u001B[43mbatch_end\u001B[49m\u001B[43m)\u001B[49m\u001B[43m]\u001B[49m\u001B[43m)\u001B[49m\n\u001B[1;32m     17\u001B[0m \u001B[38;5;66;03m# print(col.get(where={\"$and\":[{\"$or\":[{\"a\":\"1\"},{\"b\":2}]},{\"c\":True}]}))\u001B[39;00m\n",
      "File \u001B[0;32m~/PycharmProjects/chroma-core/chromadb/api/models/Collection.py:95\u001B[0m, in \u001B[0;36mCollection.add\u001B[0;34m(self, ids, embeddings, metadatas, documents)\u001B[0m\n\u001B[1;32m     69\u001B[0m \u001B[38;5;28;01mdef\u001B[39;00m \u001B[38;5;21madd\u001B[39m(\n\u001B[1;32m     70\u001B[0m     \u001B[38;5;28mself\u001B[39m,\n\u001B[1;32m     71\u001B[0m     ids: OneOrMany[ID],\n\u001B[0;32m   (...)\u001B[0m\n\u001B[1;32m     74\u001B[0m     documents: Optional[OneOrMany[Document]] \u001B[38;5;241m=\u001B[39m \u001B[38;5;28;01mNone\u001B[39;00m,\n\u001B[1;32m     75\u001B[0m ) \u001B[38;5;241m-\u001B[39m\u001B[38;5;241m>\u001B[39m \u001B[38;5;28;01mNone\u001B[39;00m:\n\u001B[1;32m     76\u001B[0m \u001B[38;5;250m    \u001B[39m\u001B[38;5;124;03m\"\"\"Add embeddings to the data store.\u001B[39;00m\n\u001B[1;32m     77\u001B[0m \u001B[38;5;124;03m    Args:\u001B[39;00m\n\u001B[1;32m     78\u001B[0m \u001B[38;5;124;03m        ids: The ids of the embeddings you wish to add\u001B[39;00m\n\u001B[0;32m   (...)\u001B[0m\n\u001B[1;32m     92\u001B[0m \n\u001B[1;32m     93\u001B[0m \u001B[38;5;124;03m    \"\"\"\u001B[39;00m\n\u001B[0;32m---> 95\u001B[0m     ids, embeddings, metadatas, documents \u001B[38;5;241m=\u001B[39m \u001B[38;5;28;43mself\u001B[39;49m\u001B[38;5;241;43m.\u001B[39;49m\u001B[43m_validate_embedding_set\u001B[49m\u001B[43m(\u001B[49m\n\u001B[1;32m     96\u001B[0m \u001B[43m        \u001B[49m\u001B[43mids\u001B[49m\u001B[43m,\u001B[49m\u001B[43m \u001B[49m\u001B[43membeddings\u001B[49m\u001B[43m,\u001B[49m\u001B[43m \u001B[49m\u001B[43mmetadatas\u001B[49m\u001B[43m,\u001B[49m\u001B[43m \u001B[49m\u001B[43mdocuments\u001B[49m\n\u001B[1;32m     97\u001B[0m \u001B[43m    \u001B[49m\u001B[43m)\u001B[49m\n\u001B[1;32m     99\u001B[0m     \u001B[38;5;28mself\u001B[39m\u001B[38;5;241m.\u001B[39m_client\u001B[38;5;241m.\u001B[39m_add(ids, \u001B[38;5;28mself\u001B[39m\u001B[38;5;241m.\u001B[39mid, embeddings, metadatas, documents)\n",
      "File \u001B[0;32m~/PycharmProjects/chroma-core/chromadb/api/models/Collection.py:386\u001B[0m, in \u001B[0;36mCollection._validate_embedding_set\u001B[0;34m(self, ids, embeddings, metadatas, documents, require_embeddings_or_documents)\u001B[0m\n\u001B[1;32m    382\u001B[0m     \u001B[38;5;28;01mif\u001B[39;00m \u001B[38;5;28mself\u001B[39m\u001B[38;5;241m.\u001B[39m_embedding_function \u001B[38;5;129;01mis\u001B[39;00m \u001B[38;5;28;01mNone\u001B[39;00m:\n\u001B[1;32m    383\u001B[0m         \u001B[38;5;28;01mraise\u001B[39;00m \u001B[38;5;167;01mValueError\u001B[39;00m(\n\u001B[1;32m    384\u001B[0m             \u001B[38;5;124m\"\u001B[39m\u001B[38;5;124mYou must provide embeddings or a function to compute them\u001B[39m\u001B[38;5;124m\"\u001B[39m\n\u001B[1;32m    385\u001B[0m         )\n\u001B[0;32m--> 386\u001B[0m     embeddings \u001B[38;5;241m=\u001B[39m \u001B[38;5;28;43mself\u001B[39;49m\u001B[38;5;241;43m.\u001B[39;49m\u001B[43m_embedding_function\u001B[49m\u001B[43m(\u001B[49m\u001B[43mdocuments\u001B[49m\u001B[43m)\u001B[49m\n\u001B[1;32m    388\u001B[0m \u001B[38;5;66;03m# if embeddings is None:\u001B[39;00m\n\u001B[1;32m    389\u001B[0m \u001B[38;5;66;03m#     raise ValueError(\u001B[39;00m\n\u001B[1;32m    390\u001B[0m \u001B[38;5;66;03m#         \"Something went wrong. Embeddings should be computed at this point\"\u001B[39;00m\n\u001B[1;32m    391\u001B[0m \u001B[38;5;66;03m#     )\u001B[39;00m\n\u001B[1;32m    393\u001B[0m \u001B[38;5;28;01mreturn\u001B[39;00m ids, embeddings, metadatas, documents\n",
      "File \u001B[0;32m~/PycharmProjects/chroma-core/chromadb/utils/embedding_functions.py:379\u001B[0m, in \u001B[0;36mONNXMiniLM_L6_V2.__call__\u001B[0;34m(self, texts)\u001B[0m\n\u001B[1;32m    377\u001B[0m \u001B[38;5;28mself\u001B[39m\u001B[38;5;241m.\u001B[39m_download_model_if_not_exists()\n\u001B[1;32m    378\u001B[0m \u001B[38;5;28mself\u001B[39m\u001B[38;5;241m.\u001B[39m_init_model_and_tokenizer()\n\u001B[0;32m--> 379\u001B[0m res \u001B[38;5;241m=\u001B[39m cast(Embeddings, \u001B[38;5;28;43mself\u001B[39;49m\u001B[38;5;241;43m.\u001B[39;49m\u001B[43m_forward\u001B[49m\u001B[43m(\u001B[49m\u001B[43mtexts\u001B[49m\u001B[43m)\u001B[49m\u001B[38;5;241m.\u001B[39mtolist())\n\u001B[1;32m    380\u001B[0m \u001B[38;5;28;01mreturn\u001B[39;00m res\n",
      "File \u001B[0;32m~/PycharmProjects/chroma-core/chromadb/utils/embedding_functions.py:328\u001B[0m, in \u001B[0;36mONNXMiniLM_L6_V2._forward\u001B[0;34m(self, documents, batch_size)\u001B[0m\n\u001B[1;32m    319\u001B[0m attention_mask \u001B[38;5;241m=\u001B[39m np\u001B[38;5;241m.\u001B[39marray([e\u001B[38;5;241m.\u001B[39mattention_mask \u001B[38;5;28;01mfor\u001B[39;00m e \u001B[38;5;129;01min\u001B[39;00m encoded])\n\u001B[1;32m    320\u001B[0m onnx_input \u001B[38;5;241m=\u001B[39m {\n\u001B[1;32m    321\u001B[0m     \u001B[38;5;124m\"\u001B[39m\u001B[38;5;124minput_ids\u001B[39m\u001B[38;5;124m\"\u001B[39m: np\u001B[38;5;241m.\u001B[39marray(input_ids, dtype\u001B[38;5;241m=\u001B[39mnp\u001B[38;5;241m.\u001B[39mint64),\n\u001B[1;32m    322\u001B[0m     \u001B[38;5;124m\"\u001B[39m\u001B[38;5;124mattention_mask\u001B[39m\u001B[38;5;124m\"\u001B[39m: np\u001B[38;5;241m.\u001B[39marray(attention_mask, dtype\u001B[38;5;241m=\u001B[39mnp\u001B[38;5;241m.\u001B[39mint64),\n\u001B[0;32m   (...)\u001B[0m\n\u001B[1;32m    326\u001B[0m     ),\n\u001B[1;32m    327\u001B[0m }\n\u001B[0;32m--> 328\u001B[0m model_output \u001B[38;5;241m=\u001B[39m \u001B[38;5;28;43mself\u001B[39;49m\u001B[38;5;241;43m.\u001B[39;49m\u001B[43mmodel\u001B[49m\u001B[38;5;241;43m.\u001B[39;49m\u001B[43mrun\u001B[49m\u001B[43m(\u001B[49m\u001B[38;5;28;43;01mNone\u001B[39;49;00m\u001B[43m,\u001B[49m\u001B[43m \u001B[49m\u001B[43monnx_input\u001B[49m\u001B[43m)\u001B[49m\n\u001B[1;32m    329\u001B[0m last_hidden_state \u001B[38;5;241m=\u001B[39m model_output[\u001B[38;5;241m0\u001B[39m]\n\u001B[1;32m    330\u001B[0m \u001B[38;5;66;03m# Perform mean pooling with attention weighting\u001B[39;00m\n",
      "File \u001B[0;32m~/PycharmProjects/chroma-core/venv/lib/python3.10/site-packages/onnxruntime/capi/onnxruntime_inference_collection.py:200\u001B[0m, in \u001B[0;36mSession.run\u001B[0;34m(self, output_names, input_feed, run_options)\u001B[0m\n\u001B[1;32m    198\u001B[0m     output_names \u001B[38;5;241m=\u001B[39m [output\u001B[38;5;241m.\u001B[39mname \u001B[38;5;28;01mfor\u001B[39;00m output \u001B[38;5;129;01min\u001B[39;00m \u001B[38;5;28mself\u001B[39m\u001B[38;5;241m.\u001B[39m_outputs_meta]\n\u001B[1;32m    199\u001B[0m \u001B[38;5;28;01mtry\u001B[39;00m:\n\u001B[0;32m--> 200\u001B[0m     \u001B[38;5;28;01mreturn\u001B[39;00m \u001B[38;5;28;43mself\u001B[39;49m\u001B[38;5;241;43m.\u001B[39;49m\u001B[43m_sess\u001B[49m\u001B[38;5;241;43m.\u001B[39;49m\u001B[43mrun\u001B[49m\u001B[43m(\u001B[49m\u001B[43moutput_names\u001B[49m\u001B[43m,\u001B[49m\u001B[43m \u001B[49m\u001B[43minput_feed\u001B[49m\u001B[43m,\u001B[49m\u001B[43m \u001B[49m\u001B[43mrun_options\u001B[49m\u001B[43m)\u001B[49m\n\u001B[1;32m    201\u001B[0m \u001B[38;5;28;01mexcept\u001B[39;00m C\u001B[38;5;241m.\u001B[39mEPFail \u001B[38;5;28;01mas\u001B[39;00m err:\n\u001B[1;32m    202\u001B[0m     \u001B[38;5;28;01mif\u001B[39;00m \u001B[38;5;28mself\u001B[39m\u001B[38;5;241m.\u001B[39m_enable_fallback:\n",
      "\u001B[0;31mKeyboardInterrupt\u001B[0m: "
     ]
    }
   ],
   "source": [
    "import uuid\n",
    "\n",
    "from essential_generators import DocumentGenerator\n",
    "from tqdm import tqdm\n",
    "\n",
    "import chromadb\n",
    "\n",
    "client = chromadb.HttpClient()\n",
    "\n",
    "col = client.get_or_create_collection(\"test1\")\n",
    "# col.add(ids=[\"0\"],documents=[\"test doc\"],metadatas=[{\"a\":\"1\",\"b\":2,\"c\":True}])\n",
    "batch_size = 100\n",
    "batches= 1000000\n",
    "gen = DocumentGenerator()\n",
    "for batch in tqdm(range(batches)):\n",
    "    batch_start = batch*batch_size\n",
    "    batch_end = batch_start+batch_size\n",
    "    col.add(ids=[f\"{uuid.uuid4()}\" for _id in range(batch_start,batch_end)],documents=[gen.sentence() for _ in range(batch_start,batch_end)],metadatas=[{\"a\":f\"id-{_id}\",\"b\":_id,\"c\":True} for _id in range(batch_start,batch_end)])\n",
    "\n",
    "# print(col.get(where={\"$and\":[{\"$or\":[{\"a\":\"1\"},{\"b\":2}]},{\"c\":True}]}))"
   ]
  },
  {
   "cell_type": "code",
   "execution_count": 1,
   "outputs": [
    {
     "ename": "NameError",
     "evalue": "name 'DocumentGenerator' is not defined",
     "output_type": "error",
     "traceback": [
      "\u001B[0;31m---------------------------------------------------------------------------\u001B[0m",
      "\u001B[0;31mNameError\u001B[0m                                 Traceback (most recent call last)",
      "Cell \u001B[0;32mIn[1], line 5\u001B[0m\n\u001B[1;32m      3\u001B[0m batch_size \u001B[38;5;241m=\u001B[39m \u001B[38;5;241m100\u001B[39m\n\u001B[1;32m      4\u001B[0m batches \u001B[38;5;241m=\u001B[39m \u001B[38;5;241m1000000\u001B[39m\n\u001B[0;32m----> 5\u001B[0m gen \u001B[38;5;241m=\u001B[39m \u001B[43mDocumentGenerator\u001B[49m()\n\u001B[1;32m      7\u001B[0m \u001B[38;5;28;01mdef\u001B[39;00m \u001B[38;5;21mprocess_batch\u001B[39m(batch):\n\u001B[1;32m      8\u001B[0m     batch_start \u001B[38;5;241m=\u001B[39m batch \u001B[38;5;241m*\u001B[39m batch_size\n",
      "\u001B[0;31mNameError\u001B[0m: name 'DocumentGenerator' is not defined"
     ]
    }
   ],
   "source": [
    "from concurrent.futures import ThreadPoolExecutor\n",
    "\n",
    "batch_size = 100\n",
    "batches = 1000000\n",
    "gen = DocumentGenerator()\n",
    "\n",
    "def process_batch(batch):\n",
    "    batch_start = batch * batch_size\n",
    "    batch_end = batch_start + batch_size\n",
    "    col.add(\n",
    "        ids=[f\"{uuid.uuid4()}\" for _ in range(batch_start, batch_end)],\n",
    "        documents=[gen.sentence() for _ in range(batch_start, batch_end)],\n",
    "        metadatas=[{\"a\":f\"id-{_id}\", \"b\":_id, \"c\":True} for _id in range(batch_start, batch_end)]\n",
    "    )\n",
    "num_threads = 5  # Adjust this value as needed\n",
    "with ThreadPoolExecutor() as executor:\n",
    "    list(tqdm(executor.map(process_batch, range(batches)), total=batches))"
   ],
   "metadata": {
    "collapsed": false,
    "ExecuteTime": {
     "end_time": "2023-09-17T14:35:40.950246Z",
     "start_time": "2023-09-17T14:35:40.787421Z"
    }
   },
   "id": "470ea90505655752"
  },
  {
   "cell_type": "code",
   "execution_count": 10,
   "outputs": [
    {
     "name": "stdout",
     "output_type": "stream",
     "text": [
      "{'ids': ['0', '9b72d30d-8441-49ec-b159-efcbf862f4fb', '55041953-f424-400a-bfad-3f516bea4965', '3014ec4c-7a86-497d-965a-92ff557cf853', '2ff6983c-a2ab-4f53-9f27-fa01fa85bbf1', '9a101542-4ee9-4409-9363-5a9a9a0c56b3', '93647f99-daea-4d78-afbb-1dcef8415139', '5e688377-602c-404c-8d79-6a1557fbbd1a', 'b8e80537-f761-4601-8a1d-138c09f4e53c', '257e1090-381a-4db8-a8d3-51111a37903a', 'c3e0bf10-599d-451e-958c-444914d3ee38', 'a2645c75-53cf-452b-a661-03a0a18c5d59', 'f00d905a-1c31-4fc3-96af-e283ee0c573f', '2f34b45c-270e-4d30-96bf-9e45fe6a8315', '25a8b450-2c6e-42de-abdc-da7bddf7d96b', '08e310ae-7380-4991-b153-5d15af81fec8', 'feed95d9-2868-4879-861b-24ddd5d705a3', '020a529a-4b5f-43d1-b38e-b106b885c04a', '8af9cffc-4914-4a65-81dd-f582987519d5', 'a4e21b4c-b7c9-42ad-8fef-d0cd8a073dff', 'f8146f6c-2a9d-433d-b6b2-db654f03cfbc', 'd2131ef8-de9a-4b8b-9215-37ca4f4bb9dc', '9a014b6c-9ecf-44f2-9366-2fed18dec294', 'c73b1288-7421-4674-93fb-138bf4e16147', 'd7496956-20cc-4a58-801c-07c75ac29962', 'f9958bca-0132-4ac5-8746-f54f9b263a81', 'b1633685-b27f-4968-87f5-5a419674e2eb', '2529f222-8972-446e-ad12-367bef820eaf', 'a04422c2-1d55-4599-a1d6-80b7bc676fc8', '5fbfb109-16dd-43c6-8015-27842321a347', '514c47c6-da54-4f12-bcbf-7018888137f4', '0484a58e-4a9e-4a7e-bee5-81095be41b80', '7c86fc5d-8427-4b8a-8e81-4fa4049bfc76', '62ba6e37-0781-4e10-812c-0a3ab2db4989', 'c28e9c6e-da29-41a3-9ffb-15d8c2c663be', 'c6bd9f15-ad1c-4cec-b83d-41a7e5648668', '57062b4c-2ba7-4b7e-980c-65f2f1fcc92e', 'f510669c-a848-4f29-ac99-243ab38ddbc6', '63291ed6-c8e1-4a57-98b5-987006cd92ee', 'c0c5c747-59c0-4655-ad99-7f57f8cc2287', '4104d34b-cd2c-4934-801d-bbf5c3421622', '62c1c650-4f1a-4780-83d6-842b5ebaecac', '681de254-8ecb-46a1-b1dd-d635bc82b705', '58819556-faa3-4ac4-a78b-23e68a6f1fb9', '8237d73e-f659-45eb-935e-2a13cd077374', 'b5c584f5-c29d-4330-b1cd-6ca3dfcbd18e', '1ef92974-dd8b-466e-8963-0c38cbec9ae1', '78c511cd-cb4f-4c29-9846-e1213e21ff12', 'b010dcaa-f649-4020-bdc1-543e692a21b1'], 'embeddings': None, 'metadatas': [{'a': '1', 'b': 2, 'c': True}, {'a': 'id-0', 'b': 0, 'c': True}, {'a': 'id-1', 'b': 1, 'c': True}, {'a': 'id-2', 'b': 2, 'c': True}, {'a': 'id-3', 'b': 3, 'c': True}, {'a': 'id-4', 'b': 4, 'c': True}, {'a': 'id-5', 'b': 5, 'c': True}, {'a': 'id-6', 'b': 6, 'c': True}, {'a': 'id-7', 'b': 7, 'c': True}, {'a': 'id-0', 'b': 0, 'c': True}, {'a': 'id-1', 'b': 1, 'c': True}, {'a': 'id-2', 'b': 2, 'c': True}, {'a': 'id-3', 'b': 3, 'c': True}, {'a': 'id-4', 'b': 4, 'c': True}, {'a': 'id-5', 'b': 5, 'c': True}, {'a': 'id-6', 'b': 6, 'c': True}, {'a': 'id-7', 'b': 7, 'c': True}, {'a': 'id-0', 'b': 0, 'c': True}, {'a': 'id-1', 'b': 1, 'c': True}, {'a': 'id-2', 'b': 2, 'c': True}, {'a': 'id-3', 'b': 3, 'c': True}, {'a': 'id-4', 'b': 4, 'c': True}, {'a': 'id-5', 'b': 5, 'c': True}, {'a': 'id-6', 'b': 6, 'c': True}, {'a': 'id-7', 'b': 7, 'c': True}, {'a': 'id-0', 'b': 0, 'c': True}, {'a': 'id-1', 'b': 1, 'c': True}, {'a': 'id-2', 'b': 2, 'c': True}, {'a': 'id-3', 'b': 3, 'c': True}, {'a': 'id-4', 'b': 4, 'c': True}, {'a': 'id-5', 'b': 5, 'c': True}, {'a': 'id-6', 'b': 6, 'c': True}, {'a': 'id-7', 'b': 7, 'c': True}, {'a': 'id-0', 'b': 0, 'c': True}, {'a': 'id-1', 'b': 1, 'c': True}, {'a': 'id-2', 'b': 2, 'c': True}, {'a': 'id-3', 'b': 3, 'c': True}, {'a': 'id-4', 'b': 4, 'c': True}, {'a': 'id-5', 'b': 5, 'c': True}, {'a': 'id-6', 'b': 6, 'c': True}, {'a': 'id-7', 'b': 7, 'c': True}, {'a': 'id-0', 'b': 0, 'c': True}, {'a': 'id-1', 'b': 1, 'c': True}, {'a': 'id-2', 'b': 2, 'c': True}, {'a': 'id-3', 'b': 3, 'c': True}, {'a': 'id-4', 'b': 4, 'c': True}, {'a': 'id-5', 'b': 5, 'c': True}, {'a': 'id-6', 'b': 6, 'c': True}, {'a': 'id-7', 'b': 7, 'c': True}], 'documents': ['test doc', 'Than 663,000 ALF, Fril, Gödel, Mercury, Oz, Ciao, Visual Prolog, XSB, and λProlog.', 'Germany, including Kyushu. Hokkaido has a clear anvil shape as the Ritz', 'Individuals develop Alaskans) but', 'Century. World self-governing and form simple sentences. Along with human habitation', 'Are prevalent is desert (14.', 'Primary characteristics a connection to contemporary', \"Sea from with launching attacks on other people's posts.\", 'State, The ways, and at intervals of time users are most', 'Ecoregions: European-Mediterranean semi-autonomous robots, such as carbohydrates (including sugars), lipids, and proteins. Release of', 'Effect: obey in Europe', 'Facility that States. Historically.', '1943. Larry Arlington won it for the god of fire, creates new armor for the', 'Ctenophora, Cnidaria variations have a defined geographic area. The', 'Microscopic forms Witnesses (1.4%); Seventh-day Adventists 5% and Methodists 4.', 'Ministry. Many beneficial for users, businesses, and the ›Public Sphere‹. Differentiation, Complementarity', 'Subsequently emerged ridge along an isthmus between Elliott', 'Tycoons. Between 1639 via the', 'Planetary cores (2009 annual revenues): Las Vegas complex (6,852 rooms.', 'Rosita; Kaya, Japan Post, one of the Alaska Folk Festival, the Athabascan', 'Incubating adults. certain sections of the ideal set', 'Sound region and 1,200 airmen', 'Several name metres (1,090.4 feet). Ahmed set a goal of transforming', 'The recommended particles like electrons (which achieve', 'Mutually beneficial American Aerospace Defense Command (NORAD) in co-operation with Germany until 1943, when the', 'Oceans, including and famines were common, and several private schools are members of unrecognised', 'Be shaped Church. He took the lead commodities, accounting for 42 percent of those Israelites', 'Psittacus and North Germanic languages. Most German vocabulary is derived from either the natural lifetime', 'Sentence was experimental research.', 'The crusaders Statistikbanken. Maps Wikimedia Atlas of Clouds and', \"World in journalist's intent.\", \"Cat's meat-oriented is found.\", 'Energy, transport, unnatural causes of increased sea surface temperature (SST) at tropical latitudes.', 'With pegs astronomer accompanying', 'Switches are to 28.', 'Its mechanism. Denmark was largely consolidated by the Mediterranean Sea', 'Karl Jansky, unborn, the terminally sick, the aged, the insane, and', 'Frequency, according population subscribe to news agencies (wire services) (such as', 'Restoration politics However, today, the important business center in the 21st Century.', \"Infrared light, create them are members of the sun's\", 'Scania, Halland, government responsibilities between the symbols of a 38-member', 'Supernova stars that increasing surveillance of cases and the summit of', 'Education. Specifically, \"How can I design a system of parallel white stripes or (2) two', 'Moroccan background, districts, and travel ways, with a high school diploma or', 'Generally digesting is eclectic and diverse. The story has no road', 'Welfare among modern species. It also include the jackrabbit, kangaroo', 'Downpour, which in Fort Belknap Agency, Assiniboine and Gros Ventres in the equatorial', 'Some have Wilderness Preservation System established by Phoenicians from Tyre on', 'Card controversy), Library Association. Alaska Department']}\n"
     ]
    }
   ],
   "source": [
    "\n",
    "print(col.get(where={\"b\":{\"$lte\":7}}))"
   ],
   "metadata": {
    "collapsed": false,
    "ExecuteTime": {
     "end_time": "2023-09-16T17:03:28.586282Z",
     "start_time": "2023-09-16T17:03:28.540679Z"
    }
   },
   "id": "2a0aad988578df89"
  },
  {
   "cell_type": "code",
   "execution_count": 91,
   "outputs": [
    {
     "name": "stdout",
     "output_type": "stream",
     "text": [
      "5\n"
     ]
    }
   ],
   "source": [
    "import uuid\n",
    "import chromadb\n",
    "\n",
    "client = chromadb.HttpClient()\n",
    "col = client.get_or_create_collection(\"test1\")\n",
    "print(len(col.query(where={\"b\":{\"$gt\":245500}},query_texts=[\"ocean is blue\"])))"
   ],
   "metadata": {
    "collapsed": false,
    "ExecuteTime": {
     "end_time": "2023-09-17T22:24:24.175761Z",
     "start_time": "2023-09-17T22:24:23.924302Z"
    }
   },
   "id": "6a356249c15e2ea5"
  },
  {
   "cell_type": "code",
   "execution_count": 4,
   "outputs": [
    {
     "name": "stdout",
     "output_type": "stream",
     "text": [
      "('CREATE INDEX cust_idx_test_index ON \"embedding_metadata\"(key, segment_id, float_value, int_value) WHERE \"key\"<>\\'chroma:document\\' AND \"segment_id\"=?', ('2ff6983c-a2ab-4f53-9f27-fa01fa85bbf1',))\n"
     ]
    }
   ],
   "source": [
    "from chromadb.db.base import ParameterValue, get_sql\n",
    "from chromadb.api.types import SqlBackedIndex, IndexType\n",
    "from chromadb.db.utils import IndexQuery\n",
    "from pypika import Table\n",
    "\n",
    "# TEsting SQL queries\n",
    "index = SqlBackedIndex(name=\"test_index\", columns={'int_value', 'float_value'},\n",
    "                       index_type=IndexType.METADATA)\n",
    "collection_id=\"2ff6983c-a2ab-4f53-9f27-fa01fa85bbf1\"\n",
    "embedding_metadata = Table('embedding_metadata')\n",
    "q = (IndexQuery()\n",
    "     .create_index(f'cust_idx_{index[\"name\"]}')\n",
    "     .on(embedding_metadata)\n",
    "     # , 'segment_id', 'key', 'int_value', 'float_value'\n",
    "     .columns(embedding_metadata.key, embedding_metadata.segment_id,\n",
    "              *(embedding_metadata[col] for col in index[\"columns\"]))\n",
    "     .where(embedding_metadata.key != \"chroma:document\")\n",
    "     .where(embedding_metadata.segment_id == ParameterValue(collection_id))\n",
    "     )\n",
    "print(get_sql(q))"
   ],
   "metadata": {
    "collapsed": false,
    "ExecuteTime": {
     "end_time": "2023-09-21T09:03:14.509817Z",
     "start_time": "2023-09-21T09:03:14.495200Z"
    }
   },
   "id": "e39eb18f197590fe"
  },
  {
   "cell_type": "code",
   "execution_count": 1,
   "outputs": [
    {
     "name": "stdout",
     "output_type": "stream",
     "text": [
      "name='indexed_col' id=UUID('a18260d9-2555-4237-b70a-61c0a2bbedfa') metadata=None\n",
      "CREATE INDEX cust_idx_test_index ON \"embedding_metadata\"(key, segment_id, int_value, float_value) WHERE \"key\"<>'chroma:document' AND \"segment_id\"='10e20e3b-b3bd-425a-acc4-2cb8b212d46e'\n",
      "SQL:  SELECT \"embeddings\".\"id\",\"embeddings\".\"embedding_id\",\"embeddings\".\"seq_id\",\"embedding_metadata\".\"key\",\"embedding_metadata\".\"string_value\",\"embedding_metadata\".\"int_value\",\"embedding_metadata\".\"float_value\",\"embedding_metadata\".\"bool_value\" FROM \"embeddings\" LEFT JOIN \"embedding_metadata\" ON \"embeddings\".\"id\"=\"embedding_metadata\".\"id\" WHERE \"embeddings\".\"segment_id\"=? AND \"embeddings\".\"id\" IN (SELECT \"id\" FROM \"embedding_metadata\" WHERE \"segment_id\"=? AND \"key\"=? AND \"key\"<>'chroma:document' AND (\"int_value\"<=? OR \"float_value\"<=?)) ORDER BY \"embeddings\".\"id\"\n",
      "Execution time: 0.0003 seconds\n",
      "{'ids': ['0'], 'embeddings': None, 'metadatas': [{'a': '1', 'b': 2, 'c': True}], 'documents': ['test doc']}\n"
     ]
    }
   ],
   "source": [
    "from chromadb import Settings\n",
    "from chromadb.api.types import  SqlBackedIndex, IndexType\n",
    "import chromadb\n",
    "client = chromadb.PersistentClient(path=\"./metadata_index_testing\", settings=Settings(allow_reset=True))\n",
    "client.reset()\n",
    "col = client.get_or_create_collection(\"indexed_col\")\n",
    "print(col)\n",
    "col.add(ids=[\"0\"],documents=[\"test doc\"],metadatas=[{\"a\":\"1\",\"b\":2,\"c\":True}])\n",
    "\n",
    "index = SqlBackedIndex(name=\"test_index\", columns={'int_value', 'float_value'},\n",
    "                       index_type=IndexType.METADATA)\n",
    "client._create_collection_index(collection_id=col.id, indices=[index])\n",
    "\n",
    "print(col.get(where={\"b\":{\"$lte\":7}}))\n",
    "\n",
    "\n"
   ],
   "metadata": {
    "collapsed": false,
    "ExecuteTime": {
     "end_time": "2023-09-21T13:22:22.267652Z",
     "start_time": "2023-09-21T13:22:21.632222Z"
    }
   },
   "id": "f85ec6fe45b37cd0"
  },
  {
   "cell_type": "code",
   "execution_count": 2,
   "outputs": [
    {
     "name": "stdout",
     "output_type": "stream",
     "text": [
      "DROP INDEX \"cust_idx_test_index\"\n"
     ]
    }
   ],
   "source": [
    "client._drop_collection_index(collection_id=col.id, index_names=[index['name']])"
   ],
   "metadata": {
    "collapsed": false,
    "ExecuteTime": {
     "end_time": "2023-09-21T13:22:09.633909Z",
     "start_time": "2023-09-21T13:22:09.603150Z"
    }
   },
   "id": "f3d7e5a6de61f090"
  },
  {
   "cell_type": "code",
   "execution_count": null,
   "outputs": [],
   "source": [],
   "metadata": {
    "collapsed": false
   },
   "id": "5a0523a94b9643c9"
  }
 ],
 "metadata": {
  "kernelspec": {
   "display_name": "Python 3",
   "language": "python",
   "name": "python3"
  },
  "language_info": {
   "codemirror_mode": {
    "name": "ipython",
    "version": 2
   },
   "file_extension": ".py",
   "mimetype": "text/x-python",
   "name": "python",
   "nbconvert_exporter": "python",
   "pygments_lexer": "ipython2",
   "version": "2.7.6"
  }
 },
 "nbformat": 4,
 "nbformat_minor": 5
}
